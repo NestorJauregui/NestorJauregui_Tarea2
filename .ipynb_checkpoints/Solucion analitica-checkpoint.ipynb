{
 "cells": [
  {
   "cell_type": "code",
   "execution_count": 1,
   "metadata": {
    "collapsed": false,
    "deletable": true,
    "editable": true
   },
   "outputs": [
    {
     "name": "stdout",
     "output_type": "stream",
     "text": [
      "Populating the interactive namespace from numpy and matplotlib\n"
     ]
    }
   ],
   "source": [
    "import numpy as np\n",
    "import matplotlib.pyplot\n",
    "import random as rm\n",
    "from scipy.optimize import brentq as root\n",
    "%pylab inline"
   ]
  },
  {
   "cell_type": "code",
   "execution_count": 12,
   "metadata": {
    "collapsed": false,
    "deletable": true,
    "editable": true
   },
   "outputs": [
    {
     "name": "stdout",
     "output_type": "stream",
     "text": [
      "(501, 3)\n"
     ]
    }
   ],
   "source": [
    "data = np.loadtxt('datos')\n",
    "rhoff = data[:,0]\n",
    "uff = data[:,1]\n",
    "pff = data[:,2]\n",
    "print shape(data)\n",
    "\n",
    "gamma = 1.4 \n",
    "Gamma = ( gamma - 1 )/( gamma  + 1 )\n",
    "beta = 0.5*( gamma -1 ) / gamma \n",
    "\n",
    "\n",
    "disc_init = 0.5 \n",
    "discv_fin = 0.9\n",
    "\n",
    "rho1 = 1.0\n",
    "rho5 = 0.125\n",
    "\n",
    "P1 = 1.0\n",
    "P5 = 0.1\n",
    "\n",
    "n_grid = 501\n",
    "\n",
    "rho = np.zeros(n_grid)\n",
    "presion = np.zeros(n_grid)\n",
    "vel = np.zeros(n_grid)\n",
    "\n",
    "pos = np.linspace(0,1,n_grid)\n",
    "\n",
    "#inicializar condiciones\n",
    "for i in range (n_grid):\n",
    "    if (pos[i] <= disc_init):\n",
    "        rho[i] = rho1\n",
    "        presion[i] = P1\n",
    "    else:\n",
    "        rho[i] = rho5\n",
    "        presion[i] = P5\n",
    "        \n",
    "\n",
    "    "
   ]
  },
  {
   "cell_type": "code",
   "execution_count": 13,
   "metadata": {
    "collapsed": false,
    "deletable": true,
    "editable": true,
    "scrolled": true
   },
   "outputs": [],
   "source": [
    "def vel_sound(P,rho,gamma = 1.4):\n",
    "    return np.sqrt(gamma*P/rho)\n",
    "\n",
    "a1 = vel_sound(P1,rho1)\n",
    "\n",
    "def U2(x,t):\n",
    "    return 2*(a1+(x-disc_init)/t)/(gamma+1)\n",
    "def a2(x,t):\n",
    "    return a1-(gamma-1)*U2(x,t)/2\n",
    "def P2(x,t):\n",
    "    return P1*(a2(x,t)/a1)**(1/beta)\n",
    "def rho2(x,t):\n",
    "    return gamma*P2(x,t)/(a2(x,t)**2)\n"
   ]
  },
  {
   "cell_type": "code",
   "execution_count": 14,
   "metadata": {
    "collapsed": false,
    "deletable": true,
    "editable": true,
    "scrolled": true
   },
   "outputs": [],
   "source": [
    "def mach0(mach):\n",
    "    parent = ((P5/P1)*((2*gamma) * (mach**2) /(gamma+1) - Gamma))**beta \n",
    "    a1 = vel_sound(P1,rho1)\n",
    "    return (1/mach) - mach + a1*(1-parent)/Gamma\n",
    "\n",
    "mach = root(mach0,0.38,8)"
   ]
  },
  {
   "cell_type": "code",
   "execution_count": 15,
   "metadata": {
    "collapsed": false,
    "deletable": true,
    "editable": true
   },
   "outputs": [],
   "source": [
    "#resolver\n",
    "\n",
    "P4 = P5 * ((2*gamma) * mach**2 /(gamma+1) - Gamma)\n",
    "P3 = P4\n",
    "rho4 = rho5/(2 / (mach**2 *(gamma+1)) + Gamma)\n",
    "rho3 = rho1*(P3/P1)**(1/gamma)\n",
    "U4 = 2*(mach - 1/mach)/(gamma+1)\n",
    "U3 = 2*(a1-vel_sound(P3,rho3))/(gamma-1)\n",
    "\n",
    "    \n",
    "\n",
    "\n",
    "\n",
    "\n",
    "time = (0.4)/mach\n",
    "\n",
    "x1 = disc_init - a1*time\n",
    "x2 = disc_init + (U3-vel_sound(P3,rho3))*time\n",
    "x3 =  disc_init + U3*time\n",
    "x4 = 0.9\n",
    "\n",
    "\n",
    "\n",
    "for i in range(len(pos)):\n",
    "    if (pos[i] < x1):\n",
    "        rho[i] = rho1\n",
    "        presion[i] = P1\n",
    "        vel[i] = 0.0\n",
    "    elif(pos[i] < x2):\n",
    "        rho[i] = rho2(pos[i],time)\n",
    "        presion[i] = P2(pos[i],time)\n",
    "        vel[i] = U2(pos[i],time)\n",
    "    elif(pos[i] < x3):\n",
    "        rho[i] = rho3\n",
    "        presion[i] = P3\n",
    "        vel[i] = U3\n",
    "    elif(pos[i] < x4):\n",
    "        rho[i] = rho4\n",
    "        presion[i] = P4\n",
    "        vel[i] = U4\n",
    "    else:\n",
    "        rho[i] = rho5\n",
    "        presion[i] = P5\n",
    "        vel[i] = 0.0\n",
    "        \n",
    "\n"
   ]
  },
  {
   "cell_type": "code",
   "execution_count": 31,
   "metadata": {
    "collapsed": false,
    "deletable": true,
    "editable": true
   },
   "outputs": [
    {
     "data": {
      "text/plain": [
       "([<matplotlib.axis.YTick at 0x7f1393f9b2d0>,\n",
       "  <matplotlib.axis.YTick at 0x7f1393fcd210>],\n",
       " <a list of 2 Text yticklabel objects>)"
      ]
     },
     "execution_count": 31,
     "metadata": {},
     "output_type": "execute_result"
    },
    {
     "data": {
      "image/png": "[encoded data removed]",
      "text/plain": [
       "<matplotlib.figure.Figure at 0x7f13941fed50>"
      ]
     },
     "metadata": {},
     "output_type": "display_data"
    }
   ],
   "source": [
    "f, axarr = plt.subplots(3, sharex=True, sharey=True)\n",
    "axarr = axarr.reshape(3)\n",
    "graf = [rho,presion,vel]\n",
    "axarr[0].plot(pos, graf[0], label=\"$Anali\\'tica$\")\n",
    "#axarr[0].plot(pos, rhoff, label=\"Numérica\")\n",
    "axarr[0].legend(loc=0,prop={'size':8})\n",
    "axarr[0].set_ylabel('Densidad')\n",
    "\n",
    "axarr[1].plot(pos, graf[1],label=\"$Anali\\'tica$\")\n",
    "axarr[1].legend(loc=0,prop={'size':8})\n",
    "axarr[1].set_ylabel('Presion')\n",
    "\n",
    "axarr[2].plot(pos, graf[2],label=\"$Anali\\'tica$\")\n",
    "axarr[2].legend(loc=0,prop={'size':8})\n",
    "axarr[2].set_ylabel('Velocidad')\n",
    "\n",
    "axarr[0].plot(pos, rhoff, label=\"$Nume\\'rico$\")\n",
    "axarr[0].legend(loc=0,prop={'size':8})\n",
    "axarr[0].set_ylabel('Densidad')\n",
    "\n",
    "axarr[1].plot(pos, pff,label=\"$Nume\\'rico$\")\n",
    "axarr[1].legend(loc=0,prop={'size':8})\n",
    "axarr[1].set_ylabel('Presion')\n",
    "\n",
    "axarr[2].plot(pos, uff,label=\"$Nume\\'rico$\")\n",
    "axarr[2].legend(loc=0,prop={'size':8})\n",
    "axarr[2].set_ylabel('Velocidad')\n",
    "\n",
    "\n",
    "plt.xlim(min(pos)-0.02,max(pos)+0.02)\n",
    "plt.ylim(min(graf[0])-0.18,max(graf[0])+0.18)\n",
    "plt.yticks(arange(2),(0,1))\n",
    "\n",
    "\n"
   ]
  },
  {
   "cell_type": "code",
   "execution_count": 27,
   "metadata": {
    "collapsed": false
   },
   "outputs": [
    {
     "data": {
      "text/plain": [
       "([<matplotlib.axis.YTick at 0x7f139484ab50>,\n",
       "  <matplotlib.axis.YTick at 0x7f13948bfdd0>],\n",
       " <a list of 2 Text yticklabel objects>)"
      ]
     },
     "execution_count": 27,
     "metadata": {},
     "output_type": "execute_result"
    },
    {
     "data": {
      "image/png": "[encoded data removed]",
      "text/plain": [
       "<matplotlib.figure.Figure at 0x7f1394d6f690>"
      ]
     },
     "metadata": {},
     "output_type": "display_data"
    }
   ],
   "source": [
    "f, axarr = plt.subplots(3, sharex=True, sharey=True)\n",
    "axarr = axarr.reshape(3)\n",
    "axarr[0].plot(pos, rhoff, label=\"Analitica\")\n",
    "axarr[0].legend(loc=0,prop={'size':8})\n",
    "axarr[0].set_ylabel('Densidad')\n",
    "\n",
    "axarr[1].plot(pos, uff,label=\"Analitica\")\n",
    "axarr[1].legend(loc=0,prop={'size':8})\n",
    "axarr[1].set_ylabel('Presion')\n",
    "\n",
    "axarr[2].plot(pos, pff,label=\"Analitica\")\n",
    "axarr[2].legend(loc=0,prop={'size':8})\n",
    "axarr[2].set_ylabel('Velocidad')\n",
    "plt.xlim(min(pos)-0.02,max(pos)+0.02)\n",
    "plt.ylim(min(graf[0])-0.18,max(graf[0])+0.18)\n",
    "plt.yticks(arange(2),(0,1))"
   ]
  },
  {
   "cell_type": "code",
   "execution_count": null,
   "metadata": {
    "collapsed": true
   },
   "outputs": [],
   "source": []
  }
 ],
 "metadata": {
  "kernelspec": {
   "display_name": "Python 2",
   "language": "python",
   "name": "python2"
  },
  "language_info": {
   "codemirror_mode": {
    "name": "ipython",
    "version": 2
   },
   "file_extension": ".py",
   "mimetype": "text/x-python",
   "name": "python",
   "nbconvert_exporter": "python",
   "pygments_lexer": "ipython2",
   "version": "2.7.6"
  }
 },
 "nbformat": 4,
 "nbformat_minor": 0
}
