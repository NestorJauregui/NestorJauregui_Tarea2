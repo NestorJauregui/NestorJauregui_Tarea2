{
 "cells": [
  {
   "cell_type": "code",
   "execution_count": 1,
   "metadata": {
    "collapsed": false,
    "deletable": true,
    "editable": true
   },
   "outputs": [
    {
     "name": "stdout",
     "output_type": "stream",
     "text": [
      "Populating the interactive namespace from numpy and matplotlib\n"
     ]
    }
   ],
   "source": [
    "import numpy as np\n",
    "import matplotlib.pyplot\n",
    "%pylab inline"
   ]
  },
  {
   "cell_type": "code",
   "execution_count": 2,
   "metadata": {
    "collapsed": false,
    "deletable": true,
    "editable": true
   },
   "outputs": [],
   "source": [
    "gamma = 1.4 \n",
    "Gamma = ( gamma - 1 )/( gamma  + 1 )\n",
    "beta = 0.5*( gamma -1 ) / gamma \n",
    "\n",
    "disc_init = 0.5 \n",
    "\n",
    "rho1 = 1.0\n",
    "rho5 = 0.1\n",
    "\n",
    "P1 = 0.1\n",
    "P5 = 1.0\n",
    "\n",
    "U_init = 0.0 \n",
    "\n",
    "n_grid = 1001\n",
    "\n",
    "rho = np.zeros(n_grid)\n",
    "presion = np.zeros(n_grid)\n",
    "vel = np.zeros(n_grid)\n",
    "pos = np.linspace(0,1,n_grid)\n",
    "\n",
    "#inicializar condiciones\n",
    "for i in range (n_grid):\n",
    "    if (pos[i] <= disc_init):\n",
    "        rho[i] = rho1\n",
    "        presion[i] = P1\n",
    "    else:\n",
    "        rho[i] = rho5\n",
    "        presion[i] = P5\n",
    "        \n",
    "\n",
    "    "
   ]
  },
  {
   "cell_type": "code",
   "execution_count": 3,
   "metadata": {
    "collapsed": false,
    "deletable": true,
    "editable": true
   },
   "outputs": [],
   "source": [
    "def vel_sound(P,rho,gamma = 1.4):\n",
    "    return np.sqrt(gamma*P/rho)\n",
    "\n",
    "def calc_rho4(P4, P5, rho5):\n",
    "    return rho5*(P4 + Gamma * P5)/(P5 + Gamma*P4)\n",
    "\n",
    "def calc_U4(P3):\n",
    "    return (P3 - P5)*np.sqrt( (1 - Gamma)/(rho5*(P3+Gamma*P5)))\n",
    "\n",
    "def calc_U2(P3):\n",
    "    up = (P1**beta - P3**beta)*np.sqrt((1-Gamma**2) * P1**(1/Gamma))\n",
    "    down = Gamma**2 * rho1\n",
    "    return up/down\n",
    "\n",
    "\n",
    "\n"
   ]
  },
  {
   "cell_type": "code",
   "execution_count": 7,
   "metadata": {
    "collapsed": false,
    "deletable": true,
    "editable": true
   },
   "outputs": [
    {
     "data": {
      "text/plain": [
       "[<matplotlib.lines.Line2D at 0x7f0a2a230780>]"
      ]
     },
     "execution_count": 7,
     "metadata": {},
     "output_type": "execute_result"
    },
    {
     "data": {
      "image/png": "[encoded data removed]",
      "text/plain": [
       "<matplotlib.figure.Figure at 0x7f0a2a5f7dd8>"
      ]
     },
     "metadata": {},
     "output_type": "display_data"
    }
   ],
   "source": [
    "xx=np.linspace(0,1.5,1000)\n",
    "plt.plot(xx,calc_U2(xx)-calc_U4(xx))\n"
   ]
  },
  {
   "cell_type": "code",
   "execution_count": null,
   "metadata": {
    "collapsed": true,
    "deletable": true,
    "editable": true
   },
   "outputs": [],
   "source": []
  }
 ],
 "metadata": {
  "kernelspec": {
   "display_name": "Python 3",
   "language": "python",
   "name": "python3"
  },
  "language_info": {
   "codemirror_mode": {
    "name": "ipython",
    "version": 3
   },
   "file_extension": ".py",
   "mimetype": "text/x-python",
   "name": "python",
   "nbconvert_exporter": "python",
   "pygments_lexer": "ipython3",
   "version": "3.5.2"
  }
 },
 "nbformat": 4,
 "nbformat_minor": 0
}
